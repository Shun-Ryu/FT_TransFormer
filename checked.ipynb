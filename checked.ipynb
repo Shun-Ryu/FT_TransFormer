{
 "cells": [
  {
   "cell_type": "code",
   "execution_count": 2,
   "metadata": {},
   "outputs": [],
   "source": [
    "import os\n",
    "import json\n",
    "import numpy as np\n",
    "import typing as ty\n",
    "from torch import Tensor\n",
    "from torch import FloatTensor\n",
    "from torch.utils.data import Dataset, DataLoader\n",
    "from sklearn.preprocessing import LabelEncoder, StandardScaler\n"
   ]
  },
  {
   "cell_type": "code",
   "execution_count": 18,
   "metadata": {},
   "outputs": [],
   "source": [
    "info_json = \"info.json\"\n",
    "N_train, y_train = \"N_train.npy\", \"y_train.npy\"\n",
    "N_test, y_test = \"N_test.npy\", \"y_test.npy\"\n",
    "N_val, y_val = \"N_val.npy\", \"y_val.npy\"\n",
    "\n",
    "data_path = \"data/microsoft\"        # regression\n",
    "data_path = \"data/aloi\"             # mlt\n",
    "# data_path = \"data/epsilon\"          # binclas\n",
    "\n",
    "json_path = os.path.join(data_path, info_json)\n",
    "    \n",
    "with open(json_path, \"r\") as f:\n",
    "    info_dict = json.load(f)\n",
    "\n",
    "\n",
    "N_train_data, y_train_data = np.load(os.path.join(data_path, N_train)), np.load(os.path.join(data_path, y_train))    \n",
    "N_val_data, y_val_data = np.load(os.path.join(data_path, N_val)), np.load(os.path.join(data_path, y_val))\n",
    "N_test_data, y_test_data = np.load(os.path.join(data_path, N_test)), np.load(os.path.join(data_path, y_test))\n",
    "\n",
    "train_dict = {}\n",
    "val_dict = {}\n",
    "test_dict = {}\n",
    "\n",
    "if info_dict[\"task_type\"] != \"regression\":\n",
    "    y_train_data = LabelEncoder().fit_transform(y_train_data).astype('int64')\n",
    "    y_val_data = LabelEncoder().fit_transform(y_val_data).astype('int64')\n",
    "    y_test_data = LabelEncoder().fit_transform(y_test_data).astype('int64')\n",
    "    \n",
    "n_classes = int(max(y_train_data)) + 1 if info_dict[\"task_type\"] == 'multiclass' else None\n",
    "\n",
    "preprocess = StandardScaler().fit(N_train_data)\n",
    "\n",
    "train_dict[\"N_train\"] = preprocess.transform(N_train_data)\n",
    "val_dict[\"N_val\"] = preprocess.transform(N_val_data)\n",
    "test_dict[\"N_test\"] = preprocess.transform(N_test_data)\n",
    "\n",
    "if info_dict[\"task_type\"] == \"regression\":\n",
    "    y_mean = y_train_data.mean()\n",
    "    y_std = y_train_data.std()\n",
    "\n",
    "    y_train_data = (y_train_data - y_mean) / y_std\n",
    "    y_val_data = (y_val_data - y_mean) / y_std\n",
    "    y_test_data = (y_test_data - y_mean) / y_std\n",
    "\n",
    "if info_dict[\"task_type\"] != 'multiclass':\n",
    "    y_train_data = np.float64(y_train_data)\n",
    "    y_val_data = np.float64(y_val_data)\n",
    "    y_test_data = np.float64(y_test_data)\n",
    "\n",
    "d_out = n_classes or 1"
   ]
  },
  {
   "cell_type": "code",
   "execution_count": 22,
   "metadata": {},
   "outputs": [
    {
     "data": {
      "text/plain": "1"
     },
     "execution_count": 22,
     "metadata": {},
     "output_type": "execute_result"
    }
   ],
   "source": [
    "temp = \"question\"\n",
    "\n",
    "loss_fn = (2 if temp == \"question2\" else 1)\n",
    "loss_fn"
   ]
  },
  {
   "cell_type": "code",
   "execution_count": 11,
   "metadata": {},
   "outputs": [],
   "source": []
  },
  {
   "cell_type": "code",
   "execution_count": null,
   "metadata": {},
   "outputs": [],
   "source": []
  }
 ],
 "metadata": {
  "kernelspec": {
   "display_name": "Python 3.8.12 64-bit ('base': conda)",
   "name": "python3812jvsc74a57bd098b0a9b7b4eaaa670588a142fd0a9b87eaafe866f1db4228be72b4211d12040f"
  },
  "language_info": {
   "name": "python",
   "version": ""
  },
  "orig_nbformat": 2
 },
 "nbformat": 4,
 "nbformat_minor": 2
}